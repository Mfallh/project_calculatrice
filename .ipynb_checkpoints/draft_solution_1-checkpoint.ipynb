{
 "cells": [
  {
   "cell_type": "code",
   "execution_count": null,
   "id": "b21ffba3-a4ce-4ff0-b999-cd8db4fe98b2",
   "metadata": {
    "tags": []
   },
   "outputs": [],
   "source": [
    "# Retirer les espaces\n",
    "# Reconnaissance des priorités de calculs \"()\"\n",
    "# Reconnaissance les caractères spéciaux(+,-,/,*,.) P1 (,)P2\n",
    "# Cast en FLOAT\n",
    "# Gestion des erreurs : '=', strings(lettres), division par 0"
   ]
  },
  {
   "cell_type": "code",
   "execution_count": 39,
   "id": "acc24d77-59b3-4fc9-abf9-6a0750097e46",
   "metadata": {},
   "outputs": [],
   "source": [
    "import re\n",
    "import operator\n",
    "allowed_operators={\n",
    "    \"+\": operator.add,\n",
    "    \"-\": operator.sub,\n",
    "    \"*\": operator.mul,\n",
    "    \"/\": operator.truediv}\n",
    "data = '20.5 * (22.0 + 1) - 15/2'\n",
    "data = data.replace(' ','')"
   ]
  },
  {
   "cell_type": "code",
   "execution_count": 42,
   "id": "11873190-32d3-4fba-879d-e8f9945da3f8",
   "metadata": {},
   "outputs": [
    {
     "name": "stdout",
     "output_type": "stream",
     "text": [
      "['20.5', '22.0', '1', '15', '2']\n",
      "['*', '+', '-', '/']\n"
     ]
    }
   ],
   "source": [
    "pattern_digits = '\\d+\\.\\d+|\\d+'\n",
    "pattern_operators = '\\+|\\-|\\/|\\*'\n",
    "digits = re.findall(pattern_digits, data)\n",
    "operators = re.findall(pattern_operators, data)\n",
    "print(digits)\n",
    "print(operators)"
   ]
  },
  {
   "cell_type": "code",
   "execution_count": null,
   "id": "88656a49-a688-422e-92c8-748c268034d0",
   "metadata": {},
   "outputs": [],
   "source": []
  },
  {
   "cell_type": "code",
   "execution_count": null,
   "id": "d09d5e57-585d-4639-ba07-48d50140f47a",
   "metadata": {},
   "outputs": [],
   "source": []
  },
  {
   "cell_type": "code",
   "execution_count": 24,
   "id": "b4c2e5c9-20d7-48c1-bd3b-46fd3398ea0e",
   "metadata": {},
   "outputs": [],
   "source": [
    "s1 = \"2 + 3\"\n",
    "s2 = \"5 - 4 * 2 \"\n",
    "s3 = \"10 + ( 2 / 3)\"\n",
    "s4 = \"24 + (12+15) / 8\"\n",
    "\n",
    "def test(inp):\n",
    "    assert eval(inp) == calculator(inp)\n",
    "    "
   ]
  },
  {
   "cell_type": "code",
   "execution_count": 44,
   "id": "3ed98b3d-4504-4c8e-95c1-74fcfdfb52bf",
   "metadata": {},
   "outputs": [
    {
     "name": "stdout",
     "output_type": "stream",
     "text": [
      "['2', '3']\n",
      "['+']\n"
     ]
    }
   ],
   "source": [
    "digits = re.findall(pattern_digits, s1)\n",
    "operators = re.findall(pattern_operators, s1)\n",
    "print(digits)\n",
    "print(operators)"
   ]
  },
  {
   "cell_type": "code",
   "execution_count": 59,
   "id": "2e2644d9-e3ea-4882-adde-27dd48e31650",
   "metadata": {},
   "outputs": [
    {
     "ename": "SyntaxError",
     "evalue": "invalid syntax (1950753380.py, line 7)",
     "output_type": "error",
     "traceback": [
      "\u001b[0;36m  File \u001b[0;32m\"/var/folders/f6/gvbxvhhx23l1r2pjm62xn_580000gn/T/ipykernel_90018/1950753380.py\"\u001b[0;36m, line \u001b[0;32m7\u001b[0m\n\u001b[0;31m    list_strings =\u001b[0m\n\u001b[0m                  ^\u001b[0m\n\u001b[0;31mSyntaxError\u001b[0m\u001b[0;31m:\u001b[0m invalid syntax\n"
     ]
    }
   ],
   "source": [
    "data = \"2 + 3\"\n",
    "data = data.replace(' ','')\n",
    "pattern = '\\d+\\.\\d+|\\d+|\\+|\\-|\\/|\\*'\n",
    "operators = re.findall(pattern_operators, data)\n",
    "\n",
    "operators = ['+','-','/','*']\n",
    "list_strings =\n",
    "list_unique = []\n",
    "for el in list_strings:\n",
    "    if el not in operators:\n",
    "        list_unique.append(float(el))\n",
    "    else list_unique.append(el)\n",
    "\n",
    "    \n"
   ]
  },
  {
   "cell_type": "code",
   "execution_count": 90,
   "id": "fb07d886-4e7d-41d6-829d-30ec1470ff5b",
   "metadata": {},
   "outputs": [
    {
     "name": "stdout",
     "output_type": "stream",
     "text": [
      "4.0\n"
     ]
    }
   ],
   "source": [
    "import operator\n",
    "allowed_operators={\n",
    "    \"+\": operator.add,\n",
    "    \"-\": operator.sub,\n",
    "    \"*\": operator.mul,\n",
    "    \"/\": operator.truediv}\n",
    "\n",
    "\n",
    "list_ = [4,'*','(',1,'+',1,')','/',2]\n",
    "\n",
    "\n",
    "\n",
    "if len(list_) == 3:\n",
    "    res = allowed_operators[list_[1]](list_[0],list_[2])\n",
    "    \n",
    "elif len(list_) == 5:\n",
    "    \n",
    "    if \"*\" not in list_ and \"/\" not in list_:\n",
    "        a = allowed_operators[list_[1]](list_[0],list_[2])\n",
    "        res = allowed_operators[list_[3]](a, list_[4])    \n",
    "    \n",
    "    \n",
    "    elif \"*\" and \"/\" in list_:\n",
    "        a = allowed_operators[list_[1]](list_[0],list_[2])\n",
    "        res = allowed_operators[list_[3]](a, list_[4])\n",
    "    \n",
    "    elif \"*\" in list_ and \"/\" not in list_:\n",
    "        pos = list_.index('*')\n",
    "        if pos == 3:\n",
    "            a = allowed_operators[list_[pos]](list_[pos - 1],list_[pos + 1])\n",
    "            res = allowed_operators[list_[1]](a, list_[0])\n",
    "            \n",
    "        elif pos == 1:\n",
    "            a = allowed_operators[list_[pos]](list_[pos - 1],list_[pos + 1])\n",
    "            res = allowed_operators[list_[3]](a, list_[4])\n",
    "            \n",
    "    elif \"/\" in list_ and \"*\" not in list_:\n",
    "        pos = list_.index('/')\n",
    "        if pos == 3:\n",
    "            a = allowed_operators[list_[pos]](list_[pos - 1],list_[pos + 1])\n",
    "            res = allowed_operators[list_[1]](a, list_[0])\n",
    "\n",
    "        elif pos == 1:\n",
    "            a = allowed_operators[list_[pos]](list_[pos - 1],list_[pos + 1])\n",
    "            res = allowed_operators[list_[3]](a, list_[4])\n",
    "\n",
    "\n",
    "elif len(list_) == 7:\n",
    "    if \"(\" in list_ and \")\" in list_:\n",
    "        a = allowed_operators[list_[4]](list_[3],list_[5])\n",
    "        res = allowed_operators[list_[1]](a,list_[0])\n",
    "        \n",
    "elif len(list_) == 9:\n",
    "    a = allowed_operators[list_[4]](list_[3],list_[5])\n",
    "    \n",
    "    \n",
    "    if list_[1] == '*' and list_[7] != '/':\n",
    "        b = allowed_operators[list_[1]](a,list_[0])\n",
    "        res = allowed_operators[list_[7]](b,list_[8])\n",
    "        \n",
    "    elif list_[1] == '/' and list_[7] != '*':\n",
    "        b = allowed_operators[list_[1]](a,list_[0])\n",
    "        res = allowed_operators[list_[7]](b,list_[8])\n",
    "    \n",
    "    elif list_[7] == '/' and list_[1] != '*':\n",
    "        b = allowed_operators[list_[7]](a,list_[8])\n",
    "        res = allowed_operators[list_[1]](b,list_[0])\n",
    "    \n",
    "    elif list_[7] == '*' and list_[1] != '/':\n",
    "        b = allowed_operators[list_[7]](a,list_[8])\n",
    "        res = allowed_operators[list_[1]](b,list_[0])\n",
    "    \n",
    "    elif list_[1] != '*' and list_[7] != '*' or list_[1] != '/' and list_[7] != '/' :\n",
    "        b = allowed_operators[list_[1]](a,list_[0])\n",
    "        res = allowed_operators[list_[7]](b,list_[8])\n",
    "        \n",
    "    elif list_.index('*') == 1 or list_.index('*') == 7 and list_.index('/') == 1 or list_.index('/') == 7:\n",
    "        b = allowed_operators[list_[1]](a,list_[0])\n",
    "        res = allowed_operators[list_[7]](b,list_[8])\n",
    "\n",
    "        \n",
    "    \n",
    "    \n",
    "\n",
    "print(res)\n"
   ]
  },
  {
   "cell_type": "code",
   "execution_count": 86,
   "id": "2eaa1bb1-611b-4a6a-ac20-07fe2a1808a8",
   "metadata": {},
   "outputs": [
    {
     "data": {
      "text/plain": [
       "'*'"
      ]
     },
     "execution_count": 86,
     "metadata": {},
     "output_type": "execute_result"
    }
   ],
   "source": [
    "list_ = [2,'*','(',2,'+',2,')']\n",
    "list_[1]"
   ]
  },
  {
   "cell_type": "code",
   "execution_count": null,
   "id": "7ec24c85-6ab9-485e-809b-9ff71cc9f412",
   "metadata": {},
   "outputs": [],
   "source": []
  }
 ],
 "metadata": {
  "kernelspec": {
   "display_name": "Python 3 (ipykernel)",
   "language": "python",
   "name": "python3"
  },
  "language_info": {
   "codemirror_mode": {
    "name": "ipython",
    "version": 3
   },
   "file_extension": ".py",
   "mimetype": "text/x-python",
   "name": "python",
   "nbconvert_exporter": "python",
   "pygments_lexer": "ipython3",
   "version": "3.9.6"
  }
 },
 "nbformat": 4,
 "nbformat_minor": 5
}
