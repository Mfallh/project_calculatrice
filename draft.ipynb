{
 "cells": [
  {
   "cell_type": "code",
   "execution_count": null,
   "id": "b21ffba3-a4ce-4ff0-b999-cd8db4fe98b2",
   "metadata": {
    "tags": []
   },
   "outputs": [],
   "source": [
    "# Retirer les espaces\n",
    "# Reconnaissance des priorités de calculs \"()\"\n",
    "# Reconnaissance les caractères spéciaux(+,-,/,*,.) P1 (,)P2\n",
    "# Cast en FLOAT\n",
    "# Gestion des erreurs : '=', strings(lettres), division par 0"
   ]
  },
  {
   "cell_type": "code",
   "execution_count": 39,
   "id": "acc24d77-59b3-4fc9-abf9-6a0750097e46",
   "metadata": {},
   "outputs": [],
   "source": [
    "import re\n",
    "import operator\n",
    "allowed_operators={\n",
    "    \"+\": operator.add,\n",
    "    \"-\": operator.sub,\n",
    "    \"*\": operator.mul,\n",
    "    \"/\": operator.truediv}\n",
    "data = '20.5 * (22.0 + 1) - 15/2'\n",
    "data = data.replace(' ','')"
   ]
  },
  {
   "cell_type": "code",
   "execution_count": 42,
   "id": "11873190-32d3-4fba-879d-e8f9945da3f8",
   "metadata": {},
   "outputs": [
    {
     "name": "stdout",
     "output_type": "stream",
     "text": [
      "['20.5', '22.0', '1', '15', '2']\n",
      "['*', '+', '-', '/']\n"
     ]
    }
   ],
   "source": [
    "pattern_digits = '\\d+\\.\\d+|\\d+'\n",
    "pattern_operators = '\\+|\\-|\\/|\\*'\n",
    "digits = re.findall(pattern_digits, data)\n",
    "operators = re.findall(pattern_operators, data)\n",
    "print(digits)\n",
    "print(operators)"
   ]
  },
  {
   "cell_type": "code",
   "execution_count": 24,
   "id": "b4c2e5c9-20d7-48c1-bd3b-46fd3398ea0e",
   "metadata": {},
   "outputs": [],
   "source": [
    "s1 = \"2 + 3\"\n",
    "s2 = \"5 - 4 * 2 \"\n",
    "s3 = \"10 + ( 2 / 3)\"\n",
    "s4 = \"24 + (12+15) / 8\"\n",
    "\n",
    "def test(inp):\n",
    "    assert eval(inp) == calculator(inp)\n",
    "    "
   ]
  },
  {
   "cell_type": "code",
   "execution_count": 44,
   "id": "3ed98b3d-4504-4c8e-95c1-74fcfdfb52bf",
   "metadata": {},
   "outputs": [
    {
     "name": "stdout",
     "output_type": "stream",
     "text": [
      "['2', '3']\n",
      "['+']\n"
     ]
    }
   ],
   "source": [
    "digits = re.findall(pattern_digits, s1)\n",
    "operators = re.findall(pattern_operators, s1)\n",
    "print(digits)\n",
    "print(operators)"
   ]
  },
  {
   "cell_type": "code",
   "execution_count": 59,
   "id": "2e2644d9-e3ea-4882-adde-27dd48e31650",
   "metadata": {},
   "outputs": [
    {
     "ename": "SyntaxError",
     "evalue": "invalid syntax (1950753380.py, line 7)",
     "output_type": "error",
     "traceback": [
      "\u001b[0;36m  File \u001b[0;32m\"/var/folders/f6/gvbxvhhx23l1r2pjm62xn_580000gn/T/ipykernel_90018/1950753380.py\"\u001b[0;36m, line \u001b[0;32m7\u001b[0m\n\u001b[0;31m    list_strings =\u001b[0m\n\u001b[0m                  ^\u001b[0m\n\u001b[0;31mSyntaxError\u001b[0m\u001b[0;31m:\u001b[0m invalid syntax\n"
     ]
    }
   ],
   "source": [
    "data = \"2 + 3\"\n",
    "data = data.replace(' ','')\n",
    "pattern = '\\d+\\.\\d+|\\d+|\\+|\\-|\\/|\\*'\n",
    "operators = re.findall(pattern_operators, data)\n",
    "\n",
    "operators = ['+','-','/','*']\n",
    "list_strings =\n",
    "list_unique = []\n",
    "for el in list_strings:\n",
    "    if el not in operators:\n",
    "        list_unique.append(float(el))\n",
    "    else list_unique.append(el)\n",
    "\n",
    "    \n"
   ]
  }
 ],
 "metadata": {
  "kernelspec": {
   "display_name": "Python 3 (ipykernel)",
   "language": "python",
   "name": "python3"
  },
  "language_info": {
   "codemirror_mode": {
    "name": "ipython",
    "version": 3
   },
   "file_extension": ".py",
   "mimetype": "text/x-python",
   "name": "python",
   "nbconvert_exporter": "python",
   "pygments_lexer": "ipython3",
   "version": "3.9.6"
  }
 },
 "nbformat": 4,
 "nbformat_minor": 5
}
