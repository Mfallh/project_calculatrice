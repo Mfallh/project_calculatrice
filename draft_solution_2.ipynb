{
 "cells": [
  {
   "cell_type": "markdown",
   "metadata": {},
   "source": [
    "Challenge 1 : écrire le programme tri-fusion\n",
    "\n",
    "Challenge 2 : écrire un programme calculatrice\n",
    "    - l'utilisateur va écrire une opération en string \n",
    "    - le code analyse le string, fait l'opération et retourne le résultat en flottant"
   ]
  },
  {
   "cell_type": "code",
   "execution_count": 387,
   "metadata": {},
   "outputs": [],
   "source": [
    "import re\n",
    "import operator\n",
    "ops = {\"+\": operator.add,\n",
    "    \"-\": operator.sub,\n",
    "    \"*\": operator.mul,\n",
    "    \"/\": operator.truediv}"
   ]
  },
  {
   "cell_type": "code",
   "execution_count": 388,
   "metadata": {},
   "outputs": [],
   "source": [
    "def calculator(string) :\n",
    "    \n",
    "    \n",
    "    pattern_digits = \"\\d+\\.\\d+|\\d+\"\n",
    "    pattern_operators = \"\\+|\\-|\\/|\\*|\\(|\\)\"\n",
    "    list_digits = re.findall(pattern_digits, string)\n",
    "    list_operators = re.findall(pattern_operators, string)\n",
    "    string = string.replace(' ','')\n",
    "    \n",
    " # gestion des parenthèses       \n",
    "    if \"(\" in list_operators :\n",
    "        index_parentheses_1 = list_operators.index(\"(\")\n",
    "        index_parentheses_2 = list_operators.index(\")\")\n",
    "        res = float(list_digits[index_parentheses_1])\n",
    "        for i in range(index_parentheses_1 + 1, index_parentheses_2) :\n",
    "            res = ops[list_operators[i]](res, float(list_digits[i]))\n",
    "        string = re.sub('\\(\\d+\\.*\\d*\\W*\\d+\\.*\\d*\\)', str(res), string)\n",
    "        list_digits = re.findall(pattern_digits, string)\n",
    "        list_operators = re.findall(pattern_operators, string)\n",
    "\n",
    "# gestion des priorités\n",
    "    if \"*\" in list_operators or \"/\" in list_operators:\n",
    "        if \"*\" in list_operators and \"/\" not in list_operators :\n",
    "            priority = \"*\"\n",
    "        elif \"/\" in list_operators and \"*\" not in list_operators :\n",
    "            priority = \"/\"\n",
    "        index_priority = list_operators.index(priority)\n",
    "        res = ops[list_operators[index_priority]](float(list_digits[index_priority]), float(list_digits[index_priority+1]))\n",
    "        list_digits[index_priority] = res\n",
    "        list_digits.remove(list_digits[index_priority+1])\n",
    "        list_operators.remove(list_operators[index_priority])\n",
    "    \n",
    "# gestion des autres cas\n",
    "    res = float(list_digits[0])\n",
    "    for i in range(len(list_operators)) :\n",
    "        res = ops[list_operators[i]](res, float(list_digits[i+1]))    \n",
    "    \n",
    "    return res"
   ]
  },
  {
   "cell_type": "code",
   "execution_count": 389,
   "metadata": {},
   "outputs": [],
   "source": [
    "s1 = \"2 * 3\" #d op d\n",
    "s2 = \"5 + 4 * 2 \" #d op d op d\n",
    "s3 = \"10 / (2 + 3)\" #d op (d op d)\n",
    "s4 = \"2 - (10 * 5) / 8\" #d op (d op d) op d"
   ]
  },
  {
   "cell_type": "code",
   "execution_count": 413,
   "metadata": {},
   "outputs": [],
   "source": [
    "s1 = \"2 + 3\"\n",
    "s2 = \"5 * 4 * 2 \"\n",
    "s3 = \"10 / ( 4 + 3)\"\n",
    "s4 = \"2 + (1 * 2) / 8\""
   ]
  },
  {
   "cell_type": "code",
   "execution_count": 414,
   "metadata": {},
   "outputs": [],
   "source": [
    "def test(inp):\n",
    "    assert eval(inp) == calculator(inp)"
   ]
  },
  {
   "cell_type": "code",
   "execution_count": 415,
   "metadata": {},
   "outputs": [],
   "source": [
    "test(s1)"
   ]
  },
  {
   "cell_type": "code",
   "execution_count": 416,
   "metadata": {},
   "outputs": [],
   "source": [
    "test(s2)"
   ]
  },
  {
   "cell_type": "code",
   "execution_count": 417,
   "metadata": {},
   "outputs": [],
   "source": [
    "test(s3)"
   ]
  },
  {
   "cell_type": "code",
   "execution_count": 418,
   "metadata": {},
   "outputs": [],
   "source": [
    "test(s4)"
   ]
  },
  {
   "cell_type": "code",
   "execution_count": null,
   "metadata": {},
   "outputs": [],
   "source": []
  }
 ],
 "metadata": {
  "kernelspec": {
   "display_name": "Python 3",
   "language": "python",
   "name": "python3"
  },
  "language_info": {
   "codemirror_mode": {
    "name": "ipython",
    "version": 3
   },
   "file_extension": ".py",
   "mimetype": "text/x-python",
   "name": "python",
   "nbconvert_exporter": "python",
   "pygments_lexer": "ipython3",
   "version": "3.7.6"
  }
 },
 "nbformat": 4,
 "nbformat_minor": 4
}
