{
 "cells": [
  {
   "cell_type": "markdown",
   "metadata": {},
   "source": [
    "Challenge 1 : écrire le programme tri-fusion\n",
    "\n",
    "Challenge 2 : écrire un programme calculatrice\n",
    "    - l'utilisateur va écrire une opération en string \n",
    "    - le code analyse le string, fait l'opération et retourne le résultat en flottant"
   ]
  },
  {
   "cell_type": "code",
   "execution_count": 41,
   "metadata": {},
   "outputs": [],
   "source": [
    "import re\n",
    "import operator\n",
    "ops = {\"+\": operator.add,\n",
    "    \"-\": operator.sub,\n",
    "    \"*\": operator.mul,\n",
    "    \"/\": operator.truediv}"
   ]
  },
  {
   "cell_type": "code",
   "execution_count": 477,
   "metadata": {},
   "outputs": [],
   "source": [
    "def calculator(string) :\n",
    "    \n",
    "    pattern_digits = \"\\d+\\.\\d+|\\d+\"\n",
    "    pattern_operators = \"\\+|\\-|\\/|\\*|\\(|\\)\"\n",
    "    list_digits = re.findall(pattern_digits, string)\n",
    "    list_operators = re.findall(pattern_operators, string)\n",
    "    string = string.replace(' ','')\n",
    "\n",
    "    \n",
    " # gestion des erreurs \n",
    " # erreur 1 : lettre ou caractères spéciaux hors operator\n",
    "    digits = [str(d) for d in range(0,10)]\n",
    "    list_characters = list_operators.copy()\n",
    "    list_characters.append(\".\")\n",
    "    \n",
    "    for e in string :\n",
    "        if e not in digits and e not in list_operators and e != \".\" :\n",
    "            return None\n",
    " # erreur 2 : position des operators\n",
    " # '(' = précédé par un élément de la liste op et suivi par un élément de la liste digits\n",
    "    if \"(\" in list_operators :\n",
    "        list_characters.remove(\"(\")\n",
    "        if string.index(\"(\") == 0 and string[1] not in digits or string[string.index(\"(\")-1] not in list_operators and string[string.index(\"(\")+1] not in digits :\n",
    "            return None\n",
    " # ')' = précédé par un élément de la liste digits et suivi par un élément de la liste op\n",
    "        if \")\" in list_operators :\n",
    "            list_characters.remove(\")\")\n",
    "            if string.index(\")\") == len(string)-1 and string[-2] not in list_digits or string[string.index(\")\")-1] not in digits and string[string.index(\")\")+1] not in list_operators :\n",
    "                return None\n",
    "        else :\n",
    "                return None\n",
    "    else :\n",
    "        if \")\" in list_operators :\n",
    "            list_characters.remove(\")\")\n",
    "            return None\n",
    "\n",
    " # [éléments de la liste_characters] = doivent être précédés et suivis d'un éléments de la liste digits\n",
    "\n",
    "    if string[0] in list_characters or string[-1] in list_characters :\n",
    "        return None\n",
    "    else : \n",
    "        for i in range(len(string)) :\n",
    "            if string[i] in list_characters :\n",
    "                if string[i-1] not in digits and string[i-1] != \")\" or string[i+1] not in digits and string[i+1] != \"(\" :\n",
    "                    return None            \n",
    "            \n",
    " \n",
    " # gestion des parenthèses       \n",
    "    if \"(\" in list_operators :\n",
    "        index_parentheses_1 = list_operators.index(\"(\")\n",
    "        index_parentheses_2 = list_operators.index(\")\")\n",
    "        res = float(list_digits[index_parentheses_1])\n",
    "        for i in range(index_parentheses_1 + 1, index_parentheses_2) :\n",
    "            res = ops[list_operators[i]](res, float(list_digits[i]))\n",
    "        string = re.sub('\\(\\d+\\.*\\d*\\W*\\d+\\.*\\d*\\)', str(res), string)\n",
    "        list_digits = re.findall(pattern_digits, string)\n",
    "        list_operators = re.findall(pattern_operators, string)\n",
    "\n",
    "# gestion des priorités\n",
    "    if \"*\" in list_operators or \"/\" in list_operators:\n",
    "        if \"*\" in list_operators and \"/\" not in list_operators :\n",
    "            priority = \"*\"\n",
    "        elif \"/\" in list_operators and \"*\" not in list_operators :\n",
    "            priority = \"/\"\n",
    "        index_priority = list_operators.index(priority)\n",
    "        res = ops[list_operators[index_priority]](float(list_digits[index_priority]), float(list_digits[index_priority+1]))\n",
    "        list_digits[index_priority] = res\n",
    "        list_digits.pop(index_priority+1)\n",
    "        list_operators.pop(index_priority)\n",
    "        \n",
    "\n",
    "# gestion des autres cas\n",
    "    res = float(list_digits[0])\n",
    "    for i in range(len(list_operators)) :\n",
    "        res = ops[list_operators[i]](res, float(list_digits[i+1])) \n",
    "        \n",
    "    return res"
   ]
  },
  {
   "cell_type": "code",
   "execution_count": 487,
   "metadata": {},
   "outputs": [],
   "source": [
    "s1 = \"2 + 3\"\n",
    "s2 = \"2 * (5 - 2) + 2\"\n",
    "s3 = \"10 / ( 4 + 3 )\"\n",
    "s4 = \"2 + (1 * 2) / 8\""
   ]
  },
  {
   "cell_type": "code",
   "execution_count": 488,
   "metadata": {},
   "outputs": [],
   "source": [
    "def test(inp):\n",
    "    assert eval(inp) == calculator(inp)"
   ]
  },
  {
   "cell_type": "code",
   "execution_count": 489,
   "metadata": {},
   "outputs": [
    {
     "data": {
      "text/plain": [
       "8.0"
      ]
     },
     "execution_count": 489,
     "metadata": {},
     "output_type": "execute_result"
    }
   ],
   "source": [
    "calculator(s2)"
   ]
  },
  {
   "cell_type": "code",
   "execution_count": null,
   "metadata": {},
   "outputs": [],
   "source": []
  }
 ],
 "metadata": {
  "kernelspec": {
   "display_name": "Python 3",
   "language": "python",
   "name": "python3"
  },
  "language_info": {
   "codemirror_mode": {
    "name": "ipython",
    "version": 3
   },
   "file_extension": ".py",
   "mimetype": "text/x-python",
   "name": "python",
   "nbconvert_exporter": "python",
   "pygments_lexer": "ipython3",
   "version": "3.7.6"
  }
 },
 "nbformat": 4,
 "nbformat_minor": 4
}
