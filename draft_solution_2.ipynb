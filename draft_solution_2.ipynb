{
 "cells": [
  {
   "cell_type": "markdown",
   "metadata": {},
   "source": [
    "Challenge 1 : écrire le programme tri-fusion\n",
    "\n",
    "Challenge 2 : écrire un programme calculatrice\n",
    "    - l'utilisateur va écrire une opération en string \n",
    "    - le code analyse le string, fait l'opération et retourne le résultat en flottant"
   ]
  },
  {
   "cell_type": "code",
   "execution_count": 41,
   "metadata": {},
   "outputs": [],
   "source": [
    "import re\n",
    "import operator\n",
    "ops = {\"+\": operator.add,\n",
    "    \"-\": operator.sub,\n",
    "    \"*\": operator.mul,\n",
    "    \"/\": operator.truediv}"
   ]
  },
  {
   "cell_type": "code",
   "execution_count": 124,
   "metadata": {},
   "outputs": [],
   "source": [
    "def calculator(string) :\n",
    "    \n",
    "    pattern_digits = \"\\d+\\.\\d+|\\d+\"\n",
    "    pattern_operators = \"\\+|\\-|\\/|\\*|\\(|\\)\"\n",
    "    list_digits = re.findall(pattern_digits, string)\n",
    "    list_operators = re.findall(pattern_operators, string)\n",
    "    string = string.replace(' ','')\n",
    "    \n",
    " # gestion des erreurs \n",
    " # erreur 1 : lettre ou caractères spéciaux hors operator\n",
    "    digits = [str(d) for d in range(0,10)]\n",
    "    for e in string :\n",
    "        if e not in digits and e not in list_operators and e != \".\" :\n",
    "            raise ValueError (\"Incorrect input data type\")\n",
    " # erreur 2 : position des operators\n",
    " # '(' = précédé par un élément de la liste op et suivi par un élément de la liste digits\n",
    "    if \"(\" in list_operators :\n",
    "        if string.index(\"(\") == 0 and string[1] not in digits or string[string.index(\"(\")-1] not in list_operators and string[string.index(\"(\")+1] not in digits :\n",
    "            raise ValueError (\"Check your operators or parentheses position\")\n",
    " # ')' = précédé par un élément de la liste digits et suivi par un élément de la liste op\n",
    "    if \")\" in list_operators :\n",
    "        if string.index(\")\") == len(string)-1 and string[-2] not in list_operators or string[string.index(\")\")-1] not in digits and string[string.index(\")\")+1] not in list_operators :\n",
    "            raise ValueError (\"Check your operators or parentheses position\")\n",
    "\n",
    " # [éléments de la liste_characters] = doivent être précédés et suivis d'un éléments de la liste digits\n",
    "    list_characters = list_operators\n",
    "    list_characters.append(\".\")\n",
    "    list_characters.remove(\"(\")\n",
    "    list_characters.remove(\")\")\n",
    "    if string[0] in list_characters or string[-1] in list_characters :\n",
    "        raise ValueError (\"Operators at begining or end of string not possible\")\n",
    "    else : \n",
    "        for i in range(len(string)) :\n",
    "            if string[i] in list_characters :\n",
    "                if string[i-1] not in digits and string[i-1] != \")\" or string[i+1] not in digits and string[i+1] != \"(\" :\n",
    "                    raise ValueError(\"Check your operators or parentheses position\")            \n",
    "            \n",
    " # gestion des parenthèses       \n",
    "    if \"(\" in list_operators :\n",
    "        index_parentheses_1 = list_operators.index(\"(\")\n",
    "        index_parentheses_2 = list_operators.index(\")\")\n",
    "        res = float(list_digits[index_parentheses_1])\n",
    "        for i in range(index_parentheses_1 + 1, index_parentheses_2) :\n",
    "            res = ops[list_operators[i]](res, float(list_digits[i]))\n",
    "        string = re.sub('\\(\\d+\\.*\\d*\\W*\\d+\\.*\\d*\\)', str(res), string)\n",
    "        list_digits = re.findall(pattern_digits, string)\n",
    "        list_operators = re.findall(pattern_operators, string)\n",
    "\n",
    "# gestion des priorités\n",
    "    if \"*\" in list_operators or \"/\" in list_operators:\n",
    "        if \"*\" in list_operators and \"/\" not in list_operators :\n",
    "            priority = \"*\"\n",
    "        elif \"/\" in list_operators and \"*\" not in list_operators :\n",
    "            priority = \"/\"\n",
    "        index_priority = list_operators.index(priority)\n",
    "        res = ops[list_operators[index_priority]](float(list_digits[index_priority]), float(list_digits[index_priority+1]))\n",
    "        list_digits[index_priority] = res\n",
    "        list_digits.remove(list_digits[index_priority+1])\n",
    "        list_operators.remove(list_operators[index_priority])\n",
    "    \n",
    "# gestion des autres cas\n",
    "    res = float(list_digits[0])\n",
    "    for i in range(len(list_operators)) :\n",
    "        res = ops[list_operators[i]](res, float(list_digits[i+1]))    \n",
    "    \n",
    "    return res"
   ]
  },
  {
   "cell_type": "code",
   "execution_count": 125,
   "metadata": {},
   "outputs": [],
   "source": [
    "s1 = \"2 * 3\" #d op d\n",
    "s2 = \"5 + 4 * 2 \" #d op d op d\n",
    "s3 = \"10 / (2 + 3)\" #d op (d op d)\n",
    "s4 = \"2 - (10 * 5) / 8\" #d op (d op d) op d"
   ]
  },
  {
   "cell_type": "code",
   "execution_count": 141,
   "metadata": {},
   "outputs": [],
   "source": [
    "s1 = \"(2 + 3) * 3\"\n",
    "s2 = \"5 * 4 * 2 \"\n",
    "s3 = \"10 / ( 4 + 3)\"\n",
    "s4 = \"2 + (1 * 2) / 8\""
   ]
  },
  {
   "cell_type": "code",
   "execution_count": 142,
   "metadata": {},
   "outputs": [],
   "source": [
    "def test(inp):\n",
    "    assert eval(inp) == calculator(inp)"
   ]
  },
  {
   "cell_type": "code",
   "execution_count": 143,
   "metadata": {},
   "outputs": [
    {
     "ename": "ValueError",
     "evalue": "Check your operators or parentheses position",
     "output_type": "error",
     "traceback": [
      "\u001b[0;31m---------------------------------------------------------------------------\u001b[0m",
      "\u001b[0;31mValueError\u001b[0m                                Traceback (most recent call last)",
      "\u001b[0;32m<ipython-input-143-b03a442b8e7a>\u001b[0m in \u001b[0;36m<module>\u001b[0;34m\u001b[0m\n\u001b[0;32m----> 1\u001b[0;31m \u001b[0mcalculator\u001b[0m\u001b[0;34m(\u001b[0m\u001b[0ms1\u001b[0m\u001b[0;34m)\u001b[0m\u001b[0;34m\u001b[0m\u001b[0;34m\u001b[0m\u001b[0m\n\u001b[0m",
      "\u001b[0;32m<ipython-input-124-46fde5ae3f36>\u001b[0m in \u001b[0;36mcalculator\u001b[0;34m(string)\u001b[0m\n\u001b[1;32m     34\u001b[0m             \u001b[0;32mif\u001b[0m \u001b[0mstring\u001b[0m\u001b[0;34m[\u001b[0m\u001b[0mi\u001b[0m\u001b[0;34m]\u001b[0m \u001b[0;32min\u001b[0m \u001b[0mlist_characters\u001b[0m \u001b[0;34m:\u001b[0m\u001b[0;34m\u001b[0m\u001b[0;34m\u001b[0m\u001b[0m\n\u001b[1;32m     35\u001b[0m                 \u001b[0;32mif\u001b[0m \u001b[0mstring\u001b[0m\u001b[0;34m[\u001b[0m\u001b[0mi\u001b[0m\u001b[0;34m-\u001b[0m\u001b[0;36m1\u001b[0m\u001b[0;34m]\u001b[0m \u001b[0;32mnot\u001b[0m \u001b[0;32min\u001b[0m \u001b[0mdigits\u001b[0m \u001b[0;32mand\u001b[0m \u001b[0mstring\u001b[0m\u001b[0;34m[\u001b[0m\u001b[0mi\u001b[0m\u001b[0;34m-\u001b[0m\u001b[0;36m1\u001b[0m\u001b[0;34m]\u001b[0m \u001b[0;34m!=\u001b[0m \u001b[0;34m\")\"\u001b[0m \u001b[0;32mor\u001b[0m \u001b[0mstring\u001b[0m\u001b[0;34m[\u001b[0m\u001b[0mi\u001b[0m\u001b[0;34m+\u001b[0m\u001b[0;36m1\u001b[0m\u001b[0;34m]\u001b[0m \u001b[0;32mnot\u001b[0m \u001b[0;32min\u001b[0m \u001b[0mdigits\u001b[0m \u001b[0;32mand\u001b[0m \u001b[0mstring\u001b[0m\u001b[0;34m[\u001b[0m\u001b[0mi\u001b[0m\u001b[0;34m+\u001b[0m\u001b[0;36m1\u001b[0m\u001b[0;34m]\u001b[0m \u001b[0;34m!=\u001b[0m \u001b[0;34m\"(\"\u001b[0m \u001b[0;34m:\u001b[0m\u001b[0;34m\u001b[0m\u001b[0;34m\u001b[0m\u001b[0m\n\u001b[0;32m---> 36\u001b[0;31m                     \u001b[0;32mraise\u001b[0m \u001b[0mValueError\u001b[0m\u001b[0;34m(\u001b[0m\u001b[0;34m\"Check your operators or parentheses position\"\u001b[0m\u001b[0;34m)\u001b[0m\u001b[0;34m\u001b[0m\u001b[0;34m\u001b[0m\u001b[0m\n\u001b[0m\u001b[1;32m     37\u001b[0m \u001b[0;34m\u001b[0m\u001b[0m\n\u001b[1;32m     38\u001b[0m  \u001b[0;31m# gestion des parenthèses\u001b[0m\u001b[0;34m\u001b[0m\u001b[0;34m\u001b[0m\u001b[0;34m\u001b[0m\u001b[0m\n",
      "\u001b[0;31mValueError\u001b[0m: Check your operators or parentheses position"
     ]
    }
   ],
   "source": [
    "calculator(s1)"
   ]
  },
  {
   "cell_type": "code",
   "execution_count": 50,
   "metadata": {},
   "outputs": [
    {
     "data": {
      "text/plain": [
       "8"
      ]
     },
     "execution_count": 50,
     "metadata": {},
     "output_type": "execute_result"
    }
   ],
   "source": [
    "s = \"k+flk+lz\"\n",
    "len(s)"
   ]
  },
  {
   "cell_type": "code",
   "execution_count": 51,
   "metadata": {},
   "outputs": [
    {
     "data": {
      "text/plain": [
       "1"
      ]
     },
     "execution_count": 51,
     "metadata": {},
     "output_type": "execute_result"
    }
   ],
   "source": [
    "s.index(\"+\")"
   ]
  },
  {
   "cell_type": "code",
   "execution_count": 87,
   "metadata": {},
   "outputs": [],
   "source": [
    "l1 = [1, 2, 3]\n",
    "l2 = l1\n",
    "l2.append(4)"
   ]
  },
  {
   "cell_type": "code",
   "execution_count": 88,
   "metadata": {},
   "outputs": [
    {
     "name": "stdout",
     "output_type": "stream",
     "text": [
      "[1, 2, 3, 4]\n"
     ]
    }
   ],
   "source": [
    "print(l2)"
   ]
  },
  {
   "cell_type": "code",
   "execution_count": null,
   "metadata": {},
   "outputs": [],
   "source": []
  },
  {
   "cell_type": "code",
   "execution_count": null,
   "metadata": {},
   "outputs": [],
   "source": []
  }
 ],
 "metadata": {
  "kernelspec": {
   "display_name": "Python 3",
   "language": "python",
   "name": "python3"
  },
  "language_info": {
   "codemirror_mode": {
    "name": "ipython",
    "version": 3
   },
   "file_extension": ".py",
   "mimetype": "text/x-python",
   "name": "python",
   "nbconvert_exporter": "python",
   "pygments_lexer": "ipython3",
   "version": "3.7.6"
  }
 },
 "nbformat": 4,
 "nbformat_minor": 4
}
